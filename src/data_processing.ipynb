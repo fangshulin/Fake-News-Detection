{
 "cells": [
  {
   "cell_type": "code",
   "execution_count": 1,
   "metadata": {},
   "outputs": [
    {
     "name": "stderr",
     "output_type": "stream",
     "text": [
      "Using TensorFlow backend.\n"
     ]
    }
   ],
   "source": [
    "import keras\n",
    "import pandas as pd\n",
    "import numpy as np\n",
    "import random\n",
    "import os, collections, csv\n",
    "from os.path import basename"
   ]
  },
  {
   "cell_type": "code",
   "execution_count": 6,
   "metadata": {
    "collapsed": true
   },
   "outputs": [],
   "source": [
    "data = pd.read_csv('output.csv',sep='=',lineterminator='\\n',header=None)"
   ]
  },
  {
   "cell_type": "code",
   "execution_count": 7,
   "metadata": {},
   "outputs": [
    {
     "data": {
      "text/html": [
       "<div>\n",
       "<style scoped>\n",
       "    .dataframe tbody tr th:only-of-type {\n",
       "        vertical-align: middle;\n",
       "    }\n",
       "\n",
       "    .dataframe tbody tr th {\n",
       "        vertical-align: top;\n",
       "    }\n",
       "\n",
       "    .dataframe thead th {\n",
       "        text-align: right;\n",
       "    }\n",
       "</style>\n",
       "<table border=\"1\" class=\"dataframe\">\n",
       "  <thead>\n",
       "    <tr style=\"text-align: right;\">\n",
       "      <th></th>\n",
       "      <th>0</th>\n",
       "      <th>1</th>\n",
       "    </tr>\n",
       "  </thead>\n",
       "  <tbody>\n",
       "    <tr>\n",
       "      <th>0</th>\n",
       "      <td>901774900481970176</td>\n",
       "      <td>RT @aaronjayjack: Displaced dog jumped into my...</td>\n",
       "    </tr>\n",
       "    <tr>\n",
       "      <th>1</th>\n",
       "      <td>901774898623692800</td>\n",
       "      <td>RT @JanelleKHOU: Water is seeping into the stu...</td>\n",
       "    </tr>\n",
       "    <tr>\n",
       "      <th>2</th>\n",
       "      <td>901774891971624961</td>\n",
       "      <td>RT @ReadyHarris: OPEN SHELTER: North Shore 9th...</td>\n",
       "    </tr>\n",
       "    <tr>\n",
       "      <th>3</th>\n",
       "      <td>901774890390474752</td>\n",
       "      <td>RT @LHuffmanPowell: This dog is walking around...</td>\n",
       "    </tr>\n",
       "    <tr>\n",
       "      <th>4</th>\n",
       "      <td>901774889937494017</td>\n",
       "      <td>RT @fema: Please remember: #Harvey is still an...</td>\n",
       "    </tr>\n",
       "  </tbody>\n",
       "</table>\n",
       "</div>"
      ],
      "text/plain": [
       "                    0                                                  1\n",
       "0  901774900481970176  RT @aaronjayjack: Displaced dog jumped into my...\n",
       "1  901774898623692800  RT @JanelleKHOU: Water is seeping into the stu...\n",
       "2  901774891971624961  RT @ReadyHarris: OPEN SHELTER: North Shore 9th...\n",
       "3  901774890390474752  RT @LHuffmanPowell: This dog is walking around...\n",
       "4  901774889937494017  RT @fema: Please remember: #Harvey is still an..."
      ]
     },
     "execution_count": 7,
     "metadata": {},
     "output_type": "execute_result"
    }
   ],
   "source": [
    "data.head()"
   ]
  },
  {
   "cell_type": "code",
   "execution_count": 25,
   "metadata": {
    "collapsed": true
   },
   "outputs": [],
   "source": [
    "data1 = pd.concat(pd.read_csv('news_{}.csv'.format(i),index_col=0) for i in ['true','fake'])"
   ]
  },
  {
   "cell_type": "code",
   "execution_count": 28,
   "metadata": {
    "collapsed": true
   },
   "outputs": [],
   "source": [
    "# Select tweets with fake news key words\n",
    "true1 = data[(data['text'].str.lower().str.contains('mandatory evacuation'))\n",
    "     & ((data['text'].str.lower().str.contains('houston'))) & ((~data['text'].str.lower().str.contains('no'))) & (data['label\\r\\r']==1)][['text']].drop_duplicates().index"
   ]
  },
  {
   "cell_type": "code",
   "execution_count": 29,
   "metadata": {
    "collapsed": true
   },
   "outputs": [],
   "source": [
    "true2 = data[(data['text'].str.lower().str.contains('cajun navy'))\n",
    "     & ((data['text'].str.lower().str.contains('stolen')) | (data['text'].str.lower().str.contains('loot'))) & (data['label\\r\\r']==1)][['text']].drop_duplicates().index"
   ]
  },
  {
   "cell_type": "code",
   "execution_count": 30,
   "metadata": {
    "collapsed": true
   },
   "outputs": [],
   "source": [
    "true3 = evac = data[(data['text'].str.lower().str.contains('black'))\n",
    "     & ((data['text'].str.lower().str.contains('gang')) | (data['text'].str.lower().str.contains('loot'))) & (data['label\\r\\r']==1)][['text']].drop_duplicates().index"
   ]
  },
  {
   "cell_type": "code",
   "execution_count": 31,
   "metadata": {
    "collapsed": true
   },
   "outputs": [],
   "source": [
    "true4 = data[(data['text'].str.lower().str.contains('harveylootcrew')) | (data['text'].str.lower().str.contains('houstonlootcrew')) & (data['label\\r\\r']==1)][['text']].drop_duplicates().index"
   ]
  },
  {
   "cell_type": "code",
   "execution_count": 32,
   "metadata": {
    "collapsed": true
   },
   "outputs": [],
   "source": [
    "true5 = data[(data['text'].str.lower().str.contains('mayweather'))\n",
    "     & ((data['text'].str.lower().str.contains('donat'))) & (data['label\\r\\r']==1)][['text']].drop_duplicates().index"
   ]
  },
  {
   "cell_type": "code",
   "execution_count": 38,
   "metadata": {
    "collapsed": true
   },
   "outputs": [],
   "source": [
    "trues = random.sample(list(true1) + list(true2) + list(true3) + list(true4) + list(true5),250)"
   ]
  },
  {
   "cell_type": "code",
   "execution_count": 50,
   "metadata": {
    "collapsed": true
   },
   "outputs": [],
   "source": [
    "trues = data.loc[trues]"
   ]
  },
  {
   "cell_type": "code",
   "execution_count": 52,
   "metadata": {
    "collapsed": true
   },
   "outputs": [],
   "source": [
    "data = pd.concat([trues,data[data['label\\r\\r']==0]])"
   ]
  },
  {
   "cell_type": "code",
   "execution_count": 55,
   "metadata": {
    "collapsed": true
   },
   "outputs": [],
   "source": [
    "data.columns = data1.columns"
   ]
  },
  {
   "cell_type": "code",
   "execution_count": 58,
   "metadata": {
    "collapsed": true
   },
   "outputs": [],
   "source": [
    "data = pd.concat([data,data1])"
   ]
  },
  {
   "cell_type": "code",
   "execution_count": 60,
   "metadata": {
    "collapsed": true
   },
   "outputs": [],
   "source": [
    "data.to_csv('output_1.csv')"
   ]
  },
  {
   "cell_type": "code",
   "execution_count": 2,
   "metadata": {
    "collapsed": true
   },
   "outputs": [],
   "source": [
    "# Add more manually labelled fake tweets\n",
    "df = []\n",
    "f = \"../data/fake and real tweet.xlsx\"\n",
    "numberOfSheets = 8"
   ]
  },
  {
   "cell_type": "code",
   "execution_count": 4,
   "metadata": {
    "collapsed": true
   },
   "outputs": [],
   "source": [
    "names = pd.ExcelFile(f).sheet_names"
   ]
  },
  {
   "cell_type": "code",
   "execution_count": 5,
   "metadata": {
    "collapsed": true
   },
   "outputs": [],
   "source": [
    "for i in names:\n",
    "    data = pd.read_excel(f, sheetname = i,skiprows=1,header=None)\n",
    "    df.append(data)\n",
    "df = pd.concat(df)"
   ]
  },
  {
   "cell_type": "code",
   "execution_count": 6,
   "metadata": {
    "collapsed": true
   },
   "outputs": [],
   "source": [
    "df.reset_index(drop=True,inplace=True)"
   ]
  },
  {
   "cell_type": "code",
   "execution_count": 7,
   "metadata": {
    "collapsed": true
   },
   "outputs": [],
   "source": [
    "df = df.drop([2,4],1)"
   ]
  },
  {
   "cell_type": "code",
   "execution_count": 8,
   "metadata": {
    "collapsed": true
   },
   "outputs": [],
   "source": [
    "df.columns = pd.read_csv('../data/output_1.csv',index_col=0).columns"
   ]
  },
  {
   "cell_type": "code",
   "execution_count": 9,
   "metadata": {
    "collapsed": true
   },
   "outputs": [],
   "source": [
    "real_index = df[df['label']==0].index\n",
    "fake_index = df[df['label']==1].index"
   ]
  },
  {
   "cell_type": "code",
   "execution_count": 10,
   "metadata": {
    "collapsed": true
   },
   "outputs": [],
   "source": [
    "df.loc[real_index,'label'] = 1\n",
    "df.loc[fake_index,'label'] = 0"
   ]
  },
  {
   "cell_type": "code",
   "execution_count": 11,
   "metadata": {
    "collapsed": true
   },
   "outputs": [],
   "source": [
    "df = pd.concat([pd.read_csv('../data/output_1.csv',index_col=0),df]).reset_index(drop=True)"
   ]
  },
  {
   "cell_type": "code",
   "execution_count": 12,
   "metadata": {
    "collapsed": true
   },
   "outputs": [],
   "source": [
    "df.to_csv('../data/output_final.csv')"
   ]
  },
  {
   "cell_type": "code",
   "execution_count": 5,
   "metadata": {
    "collapsed": true
   },
   "outputs": [],
   "source": [
    "df = pd.read_csv('../data/output_final.csv', index_col=0)"
   ]
  },
  {
   "cell_type": "code",
   "execution_count": 9,
   "metadata": {},
   "outputs": [
    {
     "data": {
      "text/html": [
       "<div>\n",
       "<style scoped>\n",
       "    .dataframe tbody tr th:only-of-type {\n",
       "        vertical-align: middle;\n",
       "    }\n",
       "\n",
       "    .dataframe tbody tr th {\n",
       "        vertical-align: top;\n",
       "    }\n",
       "\n",
       "    .dataframe thead th {\n",
       "        text-align: right;\n",
       "    }\n",
       "</style>\n",
       "<table border=\"1\" class=\"dataframe\">\n",
       "  <thead>\n",
       "    <tr style=\"text-align: right;\">\n",
       "      <th></th>\n",
       "      <th>id</th>\n",
       "      <th>tweet_content</th>\n",
       "      <th>label</th>\n",
       "    </tr>\n",
       "  </thead>\n",
       "  <tbody>\n",
       "    <tr>\n",
       "      <th>215</th>\n",
       "      <td>902605779487916035</td>\n",
       "      <td>RT @BanGunFreeZones: #HarveyLootcrew FYI my si...</td>\n",
       "      <td>0</td>\n",
       "    </tr>\n",
       "    <tr>\n",
       "      <th>250</th>\n",
       "      <td>901735760541474816</td>\n",
       "      <td>If you live in #conroe #tx....#lakeconroe #dam...</td>\n",
       "      <td>0</td>\n",
       "    </tr>\n",
       "    <tr>\n",
       "      <th>251</th>\n",
       "      <td>902579279342346240</td>\n",
       "      <td>RT @Corrynmb: Cajun Navy is being shot at by l...</td>\n",
       "      <td>0</td>\n",
       "    </tr>\n",
       "    <tr>\n",
       "      <th>252</th>\n",
       "      <td>902577359060074497</td>\n",
       "      <td>RT @stompk: Houston Update: Addicks Dam Breach...</td>\n",
       "      <td>0</td>\n",
       "    </tr>\n",
       "    <tr>\n",
       "      <th>253</th>\n",
       "      <td>902574072218828800</td>\n",
       "      <td>UPDATED. #Addicks Dam is overspilling now. #Le...</td>\n",
       "      <td>0</td>\n",
       "    </tr>\n",
       "    <tr>\n",
       "      <th>254</th>\n",
       "      <td>902572579541491712</td>\n",
       "      <td>Houston Update: Addicks Dam Breached, Could Be...</td>\n",
       "      <td>0</td>\n",
       "    </tr>\n",
       "    <tr>\n",
       "      <th>255</th>\n",
       "      <td>902572168260722689</td>\n",
       "      <td>(The Week) #Harvey's downpour causes levee bre...</td>\n",
       "      <td>0</td>\n",
       "    </tr>\n",
       "    <tr>\n",
       "      <th>256</th>\n",
       "      <td>902571210885799940</td>\n",
       "      <td>UPDATED. #Addicks Dam is overspilling now. #Le...</td>\n",
       "      <td>0</td>\n",
       "    </tr>\n",
       "    <tr>\n",
       "      <th>257</th>\n",
       "      <td>902569929249095682</td>\n",
       "      <td>Flooding from #Harvey continues to get worse a...</td>\n",
       "      <td>0</td>\n",
       "    </tr>\n",
       "    <tr>\n",
       "      <th>258</th>\n",
       "      <td>902562509055545344</td>\n",
       "      <td>#Cajun Navy members met with gunfire by appare...</td>\n",
       "      <td>0</td>\n",
       "    </tr>\n",
       "    <tr>\n",
       "      <th>259</th>\n",
       "      <td>902560251043602432</td>\n",
       "      <td>\"#Houston, we have a problem.\" Not in space, b...</td>\n",
       "      <td>0</td>\n",
       "    </tr>\n",
       "    <tr>\n",
       "      <th>260</th>\n",
       "      <td>902560100170080256</td>\n",
       "      <td>RT @YYCPreparedness: #Harvey floodwaters overf...</td>\n",
       "      <td>0</td>\n",
       "    </tr>\n",
       "    <tr>\n",
       "      <th>261</th>\n",
       "      <td>902553213395763204</td>\n",
       "      <td>RT @DeplorableNewsN: ✅ 8/28 CAJUN NAVY PULLING...</td>\n",
       "      <td>0</td>\n",
       "    </tr>\n",
       "    <tr>\n",
       "      <th>262</th>\n",
       "      <td>902552383422570497</td>\n",
       "      <td>#Harvey floodwaters overflow #Houston reservoi...</td>\n",
       "      <td>0</td>\n",
       "    </tr>\n",
       "    <tr>\n",
       "      <th>263</th>\n",
       "      <td>902549539164483584</td>\n",
       "      <td>RT @mattglenn0810: If you are near Columbia La...</td>\n",
       "      <td>0</td>\n",
       "    </tr>\n",
       "    <tr>\n",
       "      <th>264</th>\n",
       "      <td>902547856837533696</td>\n",
       "      <td>RT @v2the4: Levee Breach, Columbia Lakes Texas...</td>\n",
       "      <td>0</td>\n",
       "    </tr>\n",
       "    <tr>\n",
       "      <th>265</th>\n",
       "      <td>902547392314081281</td>\n",
       "      <td>Levee Breach, Columbia Lakes Texas.. the Brazo...</td>\n",
       "      <td>0</td>\n",
       "    </tr>\n",
       "    <tr>\n",
       "      <th>266</th>\n",
       "      <td>902545798067576832</td>\n",
       "      <td>If you are near Columbia Lakes dam in #Brazori...</td>\n",
       "      <td>0</td>\n",
       "    </tr>\n",
       "    <tr>\n",
       "      <th>267</th>\n",
       "      <td>902528996071444480</td>\n",
       "      <td>@GovAbbott my sister reported widespread looti...</td>\n",
       "      <td>0</td>\n",
       "    </tr>\n",
       "    <tr>\n",
       "      <th>268</th>\n",
       "      <td>902523323741024257</td>\n",
       "      <td>✅ 8/29 Statement Direct from The Louisiana Caj...</td>\n",
       "      <td>0</td>\n",
       "    </tr>\n",
       "    <tr>\n",
       "      <th>269</th>\n",
       "      <td>902518945315524609</td>\n",
       "      <td>Cajun Navy coming up with new plan after loote...</td>\n",
       "      <td>0</td>\n",
       "    </tr>\n",
       "    <tr>\n",
       "      <th>270</th>\n",
       "      <td>902516453663883265</td>\n",
       "      <td>the alt-left won't even take day off for #Harv...</td>\n",
       "      <td>0</td>\n",
       "    </tr>\n",
       "    <tr>\n",
       "      <th>271</th>\n",
       "      <td>902510908735447045</td>\n",
       "      <td>Houston Looters Shoot at Cajun Navy, Try to St...</td>\n",
       "      <td>0</td>\n",
       "    </tr>\n",
       "    <tr>\n",
       "      <th>272</th>\n",
       "      <td>902510332479975424</td>\n",
       "      <td>Report on https://t.co/mafHTyb55S indicates Ca...</td>\n",
       "      <td>0</td>\n",
       "    </tr>\n",
       "    <tr>\n",
       "      <th>273</th>\n",
       "      <td>902510164812726273</td>\n",
       "      <td>RT @huitz_warrior: Cajun Navy being shot at by...</td>\n",
       "      <td>0</td>\n",
       "    </tr>\n",
       "    <tr>\n",
       "      <th>274</th>\n",
       "      <td>902500204271857664</td>\n",
       "      <td>I can't believe the 'Cajun Navy' is out there ...</td>\n",
       "      <td>0</td>\n",
       "    </tr>\n",
       "    <tr>\n",
       "      <th>275</th>\n",
       "      <td>902486632653344768</td>\n",
       "      <td>RT @RNRBulletin: Breach: Water coming over Add...</td>\n",
       "      <td>0</td>\n",
       "    </tr>\n",
       "    <tr>\n",
       "      <th>276</th>\n",
       "      <td>902478804328775680</td>\n",
       "      <td>RT @RNRBulletin: Breach: Water coming over Add...</td>\n",
       "      <td>0</td>\n",
       "    </tr>\n",
       "    <tr>\n",
       "      <th>277</th>\n",
       "      <td>902472717869469697</td>\n",
       "      <td>Breach: Water coming over Addicks Dam spillway...</td>\n",
       "      <td>0</td>\n",
       "    </tr>\n",
       "    <tr>\n",
       "      <th>278</th>\n",
       "      <td>902471366955458560</td>\n",
       "      <td>RT @helenmag: Cajun Navy members met with gunf...</td>\n",
       "      <td>0</td>\n",
       "    </tr>\n",
       "  </tbody>\n",
       "</table>\n",
       "</div>"
      ],
      "text/plain": [
       "                     id                                      tweet_content  \\\n",
       "215  902605779487916035  RT @BanGunFreeZones: #HarveyLootcrew FYI my si...   \n",
       "250  901735760541474816  If you live in #conroe #tx....#lakeconroe #dam...   \n",
       "251  902579279342346240  RT @Corrynmb: Cajun Navy is being shot at by l...   \n",
       "252  902577359060074497  RT @stompk: Houston Update: Addicks Dam Breach...   \n",
       "253  902574072218828800  UPDATED. #Addicks Dam is overspilling now. #Le...   \n",
       "254  902572579541491712  Houston Update: Addicks Dam Breached, Could Be...   \n",
       "255  902572168260722689  (The Week) #Harvey's downpour causes levee bre...   \n",
       "256  902571210885799940  UPDATED. #Addicks Dam is overspilling now. #Le...   \n",
       "257  902569929249095682  Flooding from #Harvey continues to get worse a...   \n",
       "258  902562509055545344  #Cajun Navy members met with gunfire by appare...   \n",
       "259  902560251043602432  \"#Houston, we have a problem.\" Not in space, b...   \n",
       "260  902560100170080256  RT @YYCPreparedness: #Harvey floodwaters overf...   \n",
       "261  902553213395763204  RT @DeplorableNewsN: ✅ 8/28 CAJUN NAVY PULLING...   \n",
       "262  902552383422570497  #Harvey floodwaters overflow #Houston reservoi...   \n",
       "263  902549539164483584  RT @mattglenn0810: If you are near Columbia La...   \n",
       "264  902547856837533696  RT @v2the4: Levee Breach, Columbia Lakes Texas...   \n",
       "265  902547392314081281  Levee Breach, Columbia Lakes Texas.. the Brazo...   \n",
       "266  902545798067576832  If you are near Columbia Lakes dam in #Brazori...   \n",
       "267  902528996071444480  @GovAbbott my sister reported widespread looti...   \n",
       "268  902523323741024257  ✅ 8/29 Statement Direct from The Louisiana Caj...   \n",
       "269  902518945315524609  Cajun Navy coming up with new plan after loote...   \n",
       "270  902516453663883265  the alt-left won't even take day off for #Harv...   \n",
       "271  902510908735447045  Houston Looters Shoot at Cajun Navy, Try to St...   \n",
       "272  902510332479975424  Report on https://t.co/mafHTyb55S indicates Ca...   \n",
       "273  902510164812726273  RT @huitz_warrior: Cajun Navy being shot at by...   \n",
       "274  902500204271857664  I can't believe the 'Cajun Navy' is out there ...   \n",
       "275  902486632653344768  RT @RNRBulletin: Breach: Water coming over Add...   \n",
       "276  902478804328775680  RT @RNRBulletin: Breach: Water coming over Add...   \n",
       "277  902472717869469697  Breach: Water coming over Addicks Dam spillway...   \n",
       "278  902471366955458560  RT @helenmag: Cajun Navy members met with gunf...   \n",
       "\n",
       "     label  \n",
       "215      0  \n",
       "250      0  \n",
       "251      0  \n",
       "252      0  \n",
       "253      0  \n",
       "254      0  \n",
       "255      0  \n",
       "256      0  \n",
       "257      0  \n",
       "258      0  \n",
       "259      0  \n",
       "260      0  \n",
       "261      0  \n",
       "262      0  \n",
       "263      0  \n",
       "264      0  \n",
       "265      0  \n",
       "266      0  \n",
       "267      0  \n",
       "268      0  \n",
       "269      0  \n",
       "270      0  \n",
       "271      0  \n",
       "272      0  \n",
       "273      0  \n",
       "274      0  \n",
       "275      0  \n",
       "276      0  \n",
       "277      0  \n",
       "278      0  "
      ]
     },
     "execution_count": 9,
     "metadata": {},
     "output_type": "execute_result"
    }
   ],
   "source": [
    "df[df['label'] == 0].head(30)"
   ]
  },
  {
   "cell_type": "code",
   "execution_count": null,
   "metadata": {
    "collapsed": true
   },
   "outputs": [],
   "source": []
  }
 ],
 "metadata": {
  "kernelspec": {
   "display_name": "Python 3",
   "language": "python",
   "name": "python3"
  },
  "language_info": {
   "codemirror_mode": {
    "name": "ipython",
    "version": 3
   },
   "file_extension": ".py",
   "mimetype": "text/x-python",
   "name": "python",
   "nbconvert_exporter": "python",
   "pygments_lexer": "ipython3",
   "version": "3.6.6"
  }
 },
 "nbformat": 4,
 "nbformat_minor": 2
}
